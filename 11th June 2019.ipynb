{
 "cells": [
  {
   "cell_type": "code",
   "execution_count": 18,
   "metadata": {},
   "outputs": [
    {
     "name": "stdout",
     "output_type": "stream",
     "text": [
      "False\n"
     ]
    }
   ],
   "source": [
    "#Given a number n ,\n",
    "#check whether the given number is perfect or not\n",
    "#(i.e, sum of the factors except itself should be equal to itself) \n",
    "def perfectnum(n):\n",
    "    sum = 0\n",
    "    for x in range(1, n):\n",
    "        if n % x == 0:\n",
    "            sum += x\n",
    "    return sum == n\n",
    "\n",
    "print(perfectnum(7))\n",
    "\n"
   ]
  },
  {
   "cell_type": "code",
   "execution_count": 30,
   "metadata": {},
   "outputs": [
    {
     "name": "stdout",
     "output_type": "stream",
     "text": [
      "The Perfect Numbers Are : 1\n",
      "The Perfect Numbers Are : 2\n",
      "The Perfect Numbers Are : 4\n",
      "The Perfect Numbers Are : 5\n",
      "The Perfect Numbers Are : 10\n",
      "The Perfect Numbers Are : 20\n",
      "The Perfect Numbers Are : 25\n",
      "The Perfect Numbers Are : 50\n"
     ]
    }
   ],
   "source": [
    "#Procedure to generate first n perfect numbers \n",
    "def perfect_num(n):\n",
    "    for x in range(1,n):\n",
    "        if n % x == 0:\n",
    "            print(\"The Perfect Numbers Are :\",x)\n",
    "perfect_num(100)            "
   ]
  },
  {
   "cell_type": "code",
   "execution_count": null,
   "metadata": {},
   "outputs": [],
   "source": []
  }
 ],
 "metadata": {
  "kernelspec": {
   "display_name": "Python 3",
   "language": "python",
   "name": "python3"
  },
  "language_info": {
   "codemirror_mode": {
    "name": "ipython",
    "version": 3
   },
   "file_extension": ".py",
   "mimetype": "text/x-python",
   "name": "python",
   "nbconvert_exporter": "python",
   "pygments_lexer": "ipython3",
   "version": "3.7.3"
  }
 },
 "nbformat": 4,
 "nbformat_minor": 2
}
