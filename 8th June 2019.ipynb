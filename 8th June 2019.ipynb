{
 "cells": [
  {
   "cell_type": "code",
   "execution_count": 10,
   "metadata": {},
   "outputs": [
    {
     "name": "stdout",
     "output_type": "stream",
     "text": [
      "Enter a number: 371\n",
      "371 is an Armstrong Number\n"
     ]
    }
   ],
   "source": [
    "# Program to print if a given num is Armstrong or not\n",
    "num = int(input(\"Enter a number: \"))\n",
    "sum = 0\n",
    "temp = num\n",
    "while temp > 0:\n",
    "    digit = temp % 10\n",
    "    sum+=digit**3\n",
    "    temp //=10\n",
    "    \n",
    "if(num == sum):\n",
    "    print(num,\"is an Armstrong Number\")\n",
    "else:\n",
    "    print(num,\"is not an Armstrong Number\")"
   ]
  },
  {
   "cell_type": "code",
   "execution_count": 9,
   "metadata": {},
   "outputs": [
    {
     "data": {
      "text/plain": [
       "14"
      ]
     },
     "execution_count": 9,
     "metadata": {},
     "output_type": "execute_result"
    }
   ],
   "source": [
    "num = 143            \n",
    "num//10"
   ]
  },
  {
   "cell_type": "code",
   "execution_count": 12,
   "metadata": {},
   "outputs": [
    {
     "name": "stdout",
     "output_type": "stream",
     "text": [
      "Enter a number: 3\n",
      "The given number is Odd\n"
     ]
    }
   ],
   "source": [
    "#1.Program to print if a num is even or odd\n",
    "n = int(input(\"Enter a number: \"))\n",
    "if(n%2==0):\n",
    "    print(\"The given number is Even\")\n",
    "else:\n",
    "    print(\"The given number is Odd\")    "
   ]
  },
  {
   "cell_type": "code",
   "execution_count": 16,
   "metadata": {},
   "outputs": [
    {
     "name": "stdout",
     "output_type": "stream",
     "text": [
      "Enter a number: 5\n",
      "Enter a number: 7\n",
      "Enter a number: 3\n",
      "b is greater\n"
     ]
    }
   ],
   "source": [
    "#2.Program to print greatest of 3 numbers\n",
    "a = int(input(\"Enter a number: \"))\n",
    "b = int(input(\"Enter a number: \"))\n",
    "c = int(input(\"Enter a number: \"))\n",
    "if(a>b and a>c):\n",
    "    print(\"a is greater\")\n",
    "elif(b>c):\n",
    "    print(\"b is greater\")\n",
    "else:\n",
    "    print(\"c is greater\")"
   ]
  },
  {
   "cell_type": "code",
   "execution_count": 18,
   "metadata": {},
   "outputs": [
    {
     "name": "stdout",
     "output_type": "stream",
     "text": [
      "c is greater\n"
     ]
    }
   ],
   "source": [
    "#3. Program to print greatest of 3 numbers using Function\n",
    "def isgreater(a,b,c):\n",
    "    if(a>b and a>c):\n",
    "        print(\"a is greater\")\n",
    "    elif(b>c):\n",
    "        print(\"b is greater\")\n",
    "    else:\n",
    "        print(\"c is greater\")\n",
    "isgreater(10,7,15)        \n",
    "        "
   ]
  },
  {
   "cell_type": "code",
   "execution_count": 1,
   "metadata": {},
   "outputs": [
    {
     "name": "stdout",
     "output_type": "stream",
     "text": [
      "True\n"
     ]
    }
   ],
   "source": [
    "#4.Given two integers a and b , return True if any one of the integer is 10 or sum of the two integers is 10 \n",
    "def fun(a,b):\n",
    "    return(a==10 or b==10 or sum==10)\n",
    "        \n",
    "\n",
    "print(fun(9,10))\n",
    "\n"
   ]
  },
  {
   "cell_type": "code",
   "execution_count": 41,
   "metadata": {},
   "outputs": [
    {
     "name": "stdout",
     "output_type": "stream",
     "text": [
      "Enter True or False:  True\n"
     ]
    }
   ],
   "source": [
    "c = str(input(\"Enter True or False:  \"))"
   ]
  },
  {
   "cell_type": "code",
   "execution_count": 68,
   "metadata": {},
   "outputs": [
    {
     "name": "stdout",
     "output_type": "stream",
     "text": [
      "False\n"
     ]
    }
   ],
   "source": [
    "#5.given two integers , return true if one is positive and one is negative , \n",
    "   #except if the parameter negative is true and if both the numbers are negative \n",
    "def ispositive(a,b,c):\n",
    "    return(a>0 and b<0 and c==False or a<0 and b<0 and c==True or a>0 and b>0 and c==False)\n",
    "print(ispositive(1,-1,True))\n",
    "    "
   ]
  },
  {
   "cell_type": "code",
   "execution_count": 72,
   "metadata": {},
   "outputs": [
    {
     "data": {
      "text/plain": [
       "1200"
      ]
     },
     "execution_count": 72,
     "metadata": {},
     "output_type": "execute_result"
    }
   ],
   "source": [
    "#6.Evaluate a polynomial for a given x , f(x)=(x^3)+2*(x^2)+3*x-10\n",
    "def polynomial(x):\n",
    "    return((x*x*x)+2*(x*x)+3*(x-10))\n",
    "polynomial(2)\n",
    "polynomial(10)"
   ]
  },
  {
   "cell_type": "code",
   "execution_count": 73,
   "metadata": {},
   "outputs": [
    {
     "data": {
      "text/plain": [
       "120"
      ]
     },
     "execution_count": 73,
     "metadata": {},
     "output_type": "execute_result"
    }
   ],
   "source": [
    "#7.To find the Factorial of a given number \n",
    "def factorial(n):\n",
    "    if n==0:\n",
    "        return 1\n",
    "    else:\n",
    "        return n*factorial(n-1)\n",
    "factorial(5)    "
   ]
  },
  {
   "cell_type": "code",
   "execution_count": 11,
   "metadata": {},
   "outputs": [
    {
     "name": "stdout",
     "output_type": "stream",
     "text": [
      "[17, 18, 15, 16, 14]\n",
      "15\n"
     ]
    }
   ],
   "source": [
    "#8.Create a Random Number Generator as a Procedure which takes the Range(lb, ub) \n",
    "   #and returns a Random number in the given range\\\n",
    "import random    \n",
    "def randomgen(lb,ub,n):\n",
    "    res= []\n",
    "    li == res\n",
    "    \n",
    "    for i in range(n):\n",
    "        res.append(random.randint(lb,ub))\n",
    "    return res\n",
    "                   \n",
    "print(randomgen(10,20,5)) \n",
    "print(sum(li))"
   ]
  },
  {
   "cell_type": "code",
   "execution_count": 21,
   "metadata": {},
   "outputs": [
    {
     "name": "stdout",
     "output_type": "stream",
     "text": [
      "1\n",
      "2\n",
      "3\n",
      "4\n",
      "5\n",
      "6\n",
      "7\n",
      "8\n",
      "9\n",
      "10\n",
      "11\n",
      "12\n",
      "13\n",
      "14\n",
      "15\n",
      "16\n",
      "17\n",
      "18\n",
      "19\n",
      "20\n",
      "21\n",
      "22\n",
      "23\n",
      "24\n",
      "25\n",
      "26\n",
      "27\n",
      "28\n",
      "29\n",
      "30\n",
      "31\n",
      "32\n",
      "33\n",
      "34\n",
      "35\n",
      "36\n",
      "37\n",
      "38\n",
      "39\n",
      "40\n",
      "41\n",
      "42\n",
      "43\n",
      "44\n",
      "45\n",
      "46\n",
      "47\n",
      "48\n",
      "49\n",
      "50\n"
     ]
    }
   ],
   "source": [
    "#9.Given an integer n , Generate natural numbers upto n \n",
    "def natural(n):\n",
    "    for i in range (1,50+1):\n",
    "           print(i) \n",
    "        \n",
    "       \n",
    "    \n",
    "natural(5)  "
   ]
  },
  {
   "cell_type": "code",
   "execution_count": null,
   "metadata": {},
   "outputs": [],
   "source": [
    "1    "
   ]
  }
 ],
 "metadata": {
  "kernelspec": {
   "display_name": "Python 3",
   "language": "python",
   "name": "python3"
  },
  "language_info": {
   "codemirror_mode": {
    "name": "ipython",
    "version": 3
   },
   "file_extension": ".py",
   "mimetype": "text/x-python",
   "name": "python",
   "nbconvert_exporter": "python",
   "pygments_lexer": "ipython3",
   "version": "3.7.3"
  }
 },
 "nbformat": 4,
 "nbformat_minor": 2
}
