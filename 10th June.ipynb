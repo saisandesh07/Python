{
 "cells": [
  {
   "cell_type": "code",
   "execution_count": 21,
   "metadata": {},
   "outputs": [
    {
     "name": "stdout",
     "output_type": "stream",
     "text": [
      "Element is not present in the array\n"
     ]
    }
   ],
   "source": [
    "def search(arr, n, key):\n",
    "    for i in range (0,n):\n",
    "        if(arr[i] == key):\n",
    "            return i\n",
    "        return -1\n",
    "arr =[10,20,50,80,100,110,7,14,22,1]\n",
    "key= 80\n",
    "n=len(arr)\n",
    "result= search(arr,n,key)\n",
    "if(result == -1):\n",
    "    print(\"Element is not present in the array\")\n",
    "else:\n",
    "    print(\"Element is present at index\",result)\n",
    "    \n",
    "\n",
    "        "
   ]
  },
  {
   "cell_type": "code",
   "execution_count": 22,
   "metadata": {},
   "outputs": [
    {
     "data": {
      "text/plain": [
       "True"
      ]
     },
     "execution_count": 22,
     "metadata": {},
     "output_type": "execute_result"
    }
   ],
   "source": [
    "# Check if a number is Prime or Not\n",
    "def is_prime(x):  \n",
    "    if x < 2:  \n",
    "        return False  \n",
    "    for n in range(2, (x) - 1):  \n",
    "        if x % n == 0:  \n",
    "            return False  \n",
    "    return True\n",
    "is_prime(7)"
   ]
  },
  {
   "cell_type": "code",
   "execution_count": 31,
   "metadata": {},
   "outputs": [
    {
     "name": "stdout",
     "output_type": "stream",
     "text": [
      "18 x 1001 = 18018\n",
      "18 x 1002 = 18036\n",
      "18 x 1003 = 18054\n",
      "18 x 1004 = 18072\n",
      "18 x 1005 = 18090\n",
      "18 x 1006 = 18108\n",
      "18 x 1007 = 18126\n",
      "18 x 1008 = 18144\n",
      "18 x 1009 = 18162\n",
      "18 x 1010 = 18180\n"
     ]
    }
   ],
   "source": [
    "#To generate multiplication table of a given number \n",
    "num = 18\n",
    "for i in range(1001,1011):\n",
    "     print(num,'x',i,'=',num*i)"
   ]
  },
  {
   "cell_type": "code",
   "execution_count": 32,
   "metadata": {},
   "outputs": [
    {
     "name": "stdout",
     "output_type": "stream",
     "text": [
      "The Factors of 14 are: \n",
      "1\n",
      "2\n",
      "7\n",
      "14\n"
     ]
    }
   ],
   "source": [
    "#To Print the list of Factors\n",
    "def factor(x):\n",
    "    print(\"The Factors of\",x,\"are: \")\n",
    "    for i in range (1,x+1):\n",
    "        if (x % i == 0):\n",
    "            print (i)\n",
    "factor(14)\n",
    "    "
   ]
  },
  {
   "cell_type": "code",
   "execution_count": 72,
   "metadata": {},
   "outputs": [
    {
     "name": "stdout",
     "output_type": "stream",
     "text": [
      "The digits in 854864611846418 is  15\n"
     ]
    }
   ],
   "source": [
    "#given a number , create a procedure to print number of digits in that given number \n",
    "def countdigit(x):\n",
    "    num = x\n",
    "    count=0\n",
    "    while(x>0):\n",
    "        x //= 10\n",
    "        count = count+1\n",
    "    print(\"The digits in\", num, \"is \",+count)\n",
    "    \n",
    "    \n",
    "countdigit(854864611846418)        "
   ]
  },
  {
   "cell_type": "code",
   "execution_count": null,
   "metadata": {},
   "outputs": [],
   "source": []
  }
 ],
 "metadata": {
  "kernelspec": {
   "display_name": "Python 3",
   "language": "python",
   "name": "python3"
  },
  "language_info": {
   "codemirror_mode": {
    "name": "ipython",
    "version": 3
   },
   "file_extension": ".py",
   "mimetype": "text/x-python",
   "name": "python",
   "nbconvert_exporter": "python",
   "pygments_lexer": "ipython3",
   "version": "3.7.3"
  }
 },
 "nbformat": 4,
 "nbformat_minor": 2
}
