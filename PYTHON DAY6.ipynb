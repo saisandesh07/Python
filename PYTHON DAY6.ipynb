{
 "cells": [
  {
   "cell_type": "code",
   "execution_count": 18,
   "metadata": {},
   "outputs": [],
   "source": [
    "# import turtle library\n",
    "import turtle             \n",
    "t1 = turtle.Turtle()      \n",
    "for i in range(50):\n",
    "    t1.forward(50)           \n",
    "    t1.right(144)               \n",
    "turtle.done()"
   ]
  },
  {
   "cell_type": "code",
   "execution_count": 21,
   "metadata": {},
   "outputs": [
    {
     "data": {
      "text/plain": [
       "9"
      ]
     },
     "execution_count": 21,
     "metadata": {},
     "output_type": "execute_result"
    }
   ],
   "source": [
    "#Define a fun to read a file data far a given file\\\n",
    "\n",
    "import re\n",
    "def readfile(filename):\n",
    "    f = open(filename, 'r')\n",
    "    filedata = f.read()\n",
    "    return filedata\n",
    "\n",
    "filename = 'Desktop/Raptor/data.txt'\n",
    "#len(re.split(', ', readfile(filename))) # no of words\n",
    "#wordlist = re.split(', ', readfile(filename))\n",
    "\n",
    "\n"
   ]
  },
  {
   "cell_type": "code",
   "execution_count": 67,
   "metadata": {},
   "outputs": [
    {
     "name": "stdout",
     "output_type": "stream",
     "text": [
      "{\"Python is an interpreted, high-level, general-purpose programming language. \\nCreated by Guido van Rossum and first released in 1991, Python's design philosophy emphasizes code readability with its notable use of significant whitespace. \\nIts language constructs and object-oriented approach aims to help programmers write clear, logical code for small and large-scale projects.\": 1}\n"
     ]
    }
   ],
   "source": [
    "#Function to extract unique words in a text file\n",
    "import re\n",
    "def extractUniqueWords(filename):\n",
    "    filedata = readfile(filename)\n",
    "    wordlist = re.split(',  ', filedata)\n",
    "    uniquewords = {}\n",
    "    for word in wordlist:\n",
    "        if word not in uniquewords.keys():\n",
    "            uniquewords[word] = 1\n",
    "        return uniquewords\n",
    "filename ='Desktop/Raptor/data.txt'\n",
    "uniquewords = extractUniqueWords(filename)\n",
    "print(uniquewords)"
   ]
  },
  {
   "cell_type": "code",
   "execution_count": 77,
   "metadata": {},
   "outputs": [
    {
     "name": "stdout",
     "output_type": "stream",
     "text": [
      "Python is an interpreted, high-level, general-purpose programming language. \n",
      "Created by Guido van Rossum and first released in 1991, Python's design philosophy emphasizes code readability with its notable use of significant whitespace. \n",
      "Its language constructs and object-oriented approach aims to help programmers write clear, logical code for small and large-scale projects.<br><br>dsgg"
     ]
    }
   ],
   "source": [
    "#Function to calculate the frequency of words\n",
    "\n",
    "def frequencyTable(data,uniquedata1):\n",
    "    for word in uniquedata1:\n",
    "        uniquedata1[word] = len(re.findall(word,data))\n",
    "    return uniquedata1  \n",
    "filedata = readfile(filename)\n",
    "frequencyTable(filedata, uniquewords)"
   ]
  },
  {
   "cell_type": "code",
   "execution_count": 94,
   "metadata": {},
   "outputs": [
    {
     "data": {
      "text/plain": [
       "'an'"
      ]
     },
     "execution_count": 94,
     "metadata": {},
     "output_type": "execute_result"
    }
   ],
   "source": [
    "a =\"anand\"\n",
    "a[::-1]\n",
    "a[-1::-1]\n",
    "a[0:5:2]\n",
    "a[-3:-1]"
   ]
  },
  {
   "cell_type": "code",
   "execution_count": 85,
   "metadata": {},
   "outputs": [
    {
     "name": "stdout",
     "output_type": "stream",
     "text": [
      "hsednas\n"
     ]
    }
   ],
   "source": [
    "def ReverseString(b):\n",
    "    return b[-1::-1]\n",
    "ReverseString('anand')\n",
    "print(ReverseString('sandesh'))"
   ]
  },
  {
   "cell_type": "code",
   "execution_count": 87,
   "metadata": {},
   "outputs": [
    {
     "data": {
      "text/plain": [
       "'an'"
      ]
     },
     "execution_count": 87,
     "metadata": {},
     "output_type": "execute_result"
    }
   ],
   "source": [
    "def RevString(b,i,j):\n",
    "    return b[j:i:-1]\n",
    "RevString(a,0,2)\n"
   ]
  },
  {
   "cell_type": "code",
   "execution_count": 107,
   "metadata": {},
   "outputs": [
    {
     "data": {
      "text/plain": [
       "''"
      ]
     },
     "execution_count": 107,
     "metadata": {},
     "output_type": "execute_result"
    }
   ],
   "source": [
    "def RevString(b,i,j):\n",
    "    return b[j:i:1]\n",
    "RevString(a,-6,-1)\n"
   ]
  },
  {
   "cell_type": "code",
   "execution_count": 110,
   "metadata": {},
   "outputs": [
    {
     "data": {
      "text/plain": [
       "32"
      ]
     },
     "execution_count": 110,
     "metadata": {},
     "output_type": "execute_result"
    }
   ],
   "source": [
    "def p(a,n):\n",
    "    if n==0:\n",
    "        return 1\n",
    "    return a*p(a,n-1)\n",
    "p(2,5)"
   ]
  },
  {
   "cell_type": "code",
   "execution_count": 117,
   "metadata": {},
   "outputs": [
    {
     "name": "stdout",
     "output_type": "stream",
     "text": [
      "enter any number2\n",
      "enter any number15\n",
      "3\n",
      "5\n",
      "5\n",
      "5\n",
      "7\n",
      "7\n",
      "7\n",
      "7\n",
      "7\n",
      "9\n",
      "11\n",
      "11\n",
      "11\n",
      "11\n",
      "11\n",
      "11\n",
      "11\n",
      "11\n",
      "11\n",
      "13\n",
      "13\n",
      "13\n",
      "13\n",
      "13\n",
      "13\n",
      "13\n",
      "13\n",
      "13\n",
      "13\n",
      "13\n",
      "15\n"
     ]
    }
   ],
   "source": [
    "lb = int(input(\"enter any number\"))\n",
    "ub = int(input(\"enter any number\"))\n",
    "for i in range(lb, ub+1):\n",
    "    if i<0:\n",
    "        print(\"Enter a positive number\")\n",
    "    else:\n",
    "        for num in range(2, i):\n",
    "            if i%num==0:\n",
    "                break\n",
    "            print(i)\n",
    "\n",
    "\n",
    "\n",
    "\n",
    "\n"
   ]
  },
  {
   "cell_type": "code",
   "execution_count": null,
   "metadata": {},
   "outputs": [],
   "source": []
  }
 ],
 "metadata": {
  "kernelspec": {
   "display_name": "Python 3",
   "language": "python",
   "name": "python3"
  },
  "language_info": {
   "codemirror_mode": {
    "name": "ipython",
    "version": 3
   },
   "file_extension": ".py",
   "mimetype": "text/x-python",
   "name": "python",
   "nbconvert_exporter": "python",
   "pygments_lexer": "ipython3",
   "version": "3.7.3"
  }
 },
 "nbformat": 4,
 "nbformat_minor": 2
}
